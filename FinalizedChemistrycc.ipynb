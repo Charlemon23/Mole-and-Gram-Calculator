{
 "cells": [
  {
   "cell_type": "code",
   "execution_count": 1,
   "id": "b8e43306-b357-4650-ad20-bf973844c992",
   "metadata": {},
   "outputs": [
    {
     "name": "stdin",
     "output_type": "stream",
     "text": [
      "Enter the number of elements in the compound:  2\n",
      "Enter the symbol of element 1 (e.g., H2 for Hydrogen):  Na2Cl3\n",
      "Enter the number of moles of Na2Cl3 in the compound:  1\n"
     ]
    },
    {
     "name": "stdout",
     "output_type": "stream",
     "text": [
      "The mass of Na2Cl3 in the compound is 152.34 g\n"
     ]
    },
    {
     "name": "stdin",
     "output_type": "stream",
     "text": [
      "Enter the symbol of element 2 (e.g., H2 for Hydrogen):  H2O\n",
      "Enter the number of moles of H2O in the compound:  6\n"
     ]
    },
    {
     "name": "stdout",
     "output_type": "stream",
     "text": [
      "The mass of H2O in the compound is 108.09 g\n",
      "The molar mass of the compound is 260.43 grams/mole\n",
      "\n",
      "What would you like to calculate?\n",
      "1. Moles to grams\n",
      "2. Grams to moles\n",
      "3. Molarity\n",
      "4. Molality\n",
      "5. Normality\n",
      "6. Percent Yield\n"
     ]
    },
    {
     "name": "stdin",
     "output_type": "stream",
     "text": [
      "Enter the number corresponding to your choice:  3\n",
      "Enter the number of moles of solute:  2.3\n",
      "Enter the volume of the solution in liters:  .300\n"
     ]
    },
    {
     "name": "stdout",
     "output_type": "stream",
     "text": [
      "The Molarity of 2.3 moles of this solution is 7.67 M\n"
     ]
    }
   ],
   "source": [
    "from molmass import Formula\n",
    "\n",
    "def get_element_info(element_index):\n",
    "    while True:\n",
    "        element_symbol = input(f\"Enter the symbol of element {element_index + 1} (e.g., H2 for Hydrogen): \").strip()\n",
    "        try:\n",
    "            element = Formula(element_symbol)\n",
    "            num_sub = int(input(f\"Enter the number of moles of {element_symbol} in the compound: \"))\n",
    "            mass = element.mass * num_sub\n",
    "            print(f\"The mass of {element_symbol} in the compound is {mass:.2f} g\")\n",
    "            return mass\n",
    "        except (KeyError, ValueError):\n",
    "            print(f\"Error: {element_symbol} is not a valid element symbol or subscript.\")\n",
    "\n",
    "def calculate_molar_mass(num_elements):\n",
    "    total_mass_of_compound = 0\n",
    "    for i in range(num_elements):\n",
    "        mass = get_element_info(i)\n",
    "        total_mass_of_compound += mass\n",
    "    return total_mass_of_compound\n",
    "\n",
    "def grams_to_moles(mass, molar_mass):\n",
    "    return mass / molar_mass\n",
    "\n",
    "def moles_to_grams(moles, molar_mass):\n",
    "    return moles * molar_mass\n",
    "\n",
    "def calculate_molarity(moles, volume):\n",
    "    return moles / volume\n",
    "\n",
    "def calculate_molality(moles, mass):\n",
    "    return moles / mass\n",
    "\n",
    "def calculate_normality(mass, equivalent_weight, volume):\n",
    "    equivalents = mass / equivalent_weight\n",
    "    return equivalents / volume\n",
    "\n",
    "def calculate_percent_yield(actual_yield, theoretical_yield):\n",
    "    return (actual_yield / theoretical_yield) * 100\n",
    "\n",
    "def main():\n",
    "    num_elements = int(input(\"Enter the number of elements in the compound: \"))\n",
    "    molar_mass_of_compound = calculate_molar_mass(num_elements)\n",
    "    print(f\"The molar mass of the compound is {molar_mass_of_compound:.2f} grams/mole\")\n",
    "\n",
    "    print(\"\\nWhat would you like to calculate?\")\n",
    "    print(\"1. Moles to grams\")\n",
    "    print(\"2. Grams to moles\")\n",
    "    print(\"3. Molarity\")\n",
    "    print(\"4. Molality\")\n",
    "    print(\"5. Normality\")\n",
    "    print(\"6. Percent Yield\")\n",
    "    choice = int(input(\"Enter the number corresponding to your choice: \"))\n",
    "\n",
    "    if choice == 1:\n",
    "        moles = float(input(\"Enter the number of moles: \"))\n",
    "        grams = moles_to_grams(moles, molar_mass_of_compound)\n",
    "        print(f\"{moles} moles of this compound is equal to {grams:.2f} grams\")\n",
    "\n",
    "    elif choice == 2:\n",
    "        grams = float(input(\"Enter the mass in grams: \"))\n",
    "        moles = grams_to_moles(grams, molar_mass_of_compound)\n",
    "        print(f\"{grams} grams of this compound is equal to {moles:.2f} moles\")\n",
    "\n",
    "    elif choice == 3:\n",
    "        molarity_moles = float(input(\"Enter the number of moles of solute: \"))\n",
    "        molarity_volume = float(input(\"Enter the volume of the solution in liters: \"))\n",
    "        final_molarity = calculate_molarity(molarity_moles, molarity_volume)\n",
    "        print(f\"The Molarity of {molarity_moles} moles of this solution is {final_molarity:.2f} M\")\n",
    "\n",
    "    elif choice == 4:\n",
    "        molality_moles = float(input(\"Enter the number of moles of solute: \"))\n",
    "        molality_mass = float(input(\"Enter the mass of the solvent in kg: \"))\n",
    "        final_molality = calculate_molality(molality_moles, molality_mass)\n",
    "        print(f\"The Molality of {molality_moles} moles of this solution is {final_molality:.2f} mol/kg\")\n",
    "\n",
    "    elif choice == 5:\n",
    "        solute_mass = float(input(\"Enter the mass of the solute in grams: \"))\n",
    "        solution_volume = float(input(\"Enter the volume of the solution in liters: \"))\n",
    "        final_normality = calculate_normality(solute_mass, molar_mass_of_compound, solution_volume)\n",
    "        print(f\"The Normality of this solution is {final_normality:.2f} N\")\n",
    "\n",
    "    elif choice == 6:\n",
    "        actual_yield = float(input(\"Enter the actual yield in grams: \"))\n",
    "        theoretical_yield = float(input(\"Enter the theoretical yield in grams: \"))\n",
    "        percent_yield = calculate_percent_yield(actual_yield, theoretical_yield)\n",
    "        print(f\"The Percent Yield is {percent_yield:.2f}%\")\n",
    "\n",
    "    else:\n",
    "        print(\"Invalid choice. Please run the program again and select a valid option.\")\n",
    "\n",
    "if __name__ == \"__main__\":\n",
    "    main()\n"
   ]
  },
  {
   "cell_type": "code",
   "execution_count": null,
   "id": "4e47699f-99d5-49d0-be94-d4afe9d81d30",
   "metadata": {},
   "outputs": [],
   "source": []
  }
 ],
 "metadata": {
  "kernelspec": {
   "display_name": "Python 3 (ipykernel)",
   "language": "python",
   "name": "python3"
  },
  "language_info": {
   "codemirror_mode": {
    "name": "ipython",
    "version": 3
   },
   "file_extension": ".py",
   "mimetype": "text/x-python",
   "name": "python",
   "nbconvert_exporter": "python",
   "pygments_lexer": "ipython3",
   "version": "3.12.2"
  }
 },
 "nbformat": 4,
 "nbformat_minor": 5
}
