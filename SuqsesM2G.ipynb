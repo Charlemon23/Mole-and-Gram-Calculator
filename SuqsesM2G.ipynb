{
 "cells": [
  {
   "cell_type": "code",
   "execution_count": null,
   "id": "14b79899-a371-448f-8975-9390559f581d",
   "metadata": {},
   "outputs": [],
   "source": []
  },
  {
   "cell_type": "code",
   "execution_count": 3,
   "id": "783a2820-d944-488a-8614-3689ac15b602",
   "metadata": {},
   "outputs": [
    {
     "name": "stdin",
     "output_type": "stream",
     "text": [
      "Enter the symbol of the element:  Al\n",
      "Enter the mass of Al in grams:  28\n"
     ]
    },
    {
     "name": "stdout",
     "output_type": "stream",
     "text": [
      "The atomic mass of Al is 26.98\n",
      "28.0 grams of Al is equal to 1.04 moles\n"
     ]
    }
   ],
   "source": [
    "from molmass import Formula\n",
    "# If Molmass library is not installed on your computer you will have to pip install before running the program, otherwise it will not work. ( pip install molmass)\n",
    "# Here the user is prompted for the symbol of the desired element. This program works for any know elements.\n",
    "element_symbol = input(\"Enter the symbol of the element: \")\n",
    "\n",
    "# Here the element is defined by getting the element symbol from the library and declaring it equal to element. This is made possible from the molmass library in Python.\n",
    "element = Formula(element_symbol)\n",
    "\n",
    "# Get the atomic mass of the specified element\n",
    "atomic_mass = element.mass\n",
    "\n",
    "# Prompt the user for the amount of the element (in grams)\n",
    "mass_in_grams = float(input(f\"Enter the mass of {element_symbol} in grams: \"))\n",
    "\n",
    "# Formula to Convert grams to moles\n",
    "moles = mass_in_grams / atomic_mass\n",
    "\n",
    "# Here the atomic mass of the element is displayed for the user.\n",
    "print(f\"The atomic mass of {element_symbol} is {atomic_mass:.2f}\")\n",
    "# Here the number of grams is converted to moles and displayed for the user.\n",
    "print(f\"{mass_in_grams} grams of {element_symbol} is equal to {moles:.2f} moles\")\n"
   ]
  },
  {
   "cell_type": "code",
   "execution_count": 5,
   "id": "2039ed1a-2f52-4686-8808-05d36fd6d802",
   "metadata": {},
   "outputs": [
    {
     "name": "stdin",
     "output_type": "stream",
     "text": [
      "Enter the symbol of the element:  Al\n",
      "Enter the number of moles of Al:  27\n"
     ]
    },
    {
     "name": "stdout",
     "output_type": "stream",
     "text": [
      "The atomic mass of Al is 26.98\n",
      "27.0 moles of Al is equal to 728.50 grams\n"
     ]
    }
   ],
   "source": [
    "from molmass import Formula\n",
    "# If Molmass library is not installed on your computer you will have to pip install before running the program, otherwise it will not work. ( pip install molmass)\n",
    "# Here the user is prompted for the symbol of the desired element. This program works for any know elements.\n",
    "element_symbol = input(\"Enter the symbol of the element: \")\n",
    "\n",
    "# Here the element is defined by getting the element symbol from the library and declaring it equal to element. This is made possible from the molmass library in Python.\n",
    "element = Formula(element_symbol)\n",
    "\n",
    "# Get the atomic mass of the specified element\n",
    "atomic_mass = element.mass\n",
    "\n",
    "# Prompt the user for the amount of the element in moles\n",
    "moles = float(input(f\"Enter the number of moles of {element_symbol}: \"))\n",
    "\n",
    "# Formula to Convert moles to grams\n",
    "mass_in_grams = moles * atomic_mass\n",
    "\n",
    "# Here the atomic mass of the element is displayed for the user.\n",
    "print(f\"The atomic mass of {element_symbol} is {atomic_mass:.2f}\")\n",
    "# Here the number of moles is converted to mass in grams and displayed for the user.\n",
    "print(f\"{moles} moles of {element_symbol} is equal to {mass_in_grams:.2f} grams\")\n"
   ]
  },
  {
   "cell_type": "code",
   "execution_count": null,
   "id": "fef9951b-7bb2-467b-94ad-3932b299a893",
   "metadata": {},
   "outputs": [],
   "source": []
  }
 ],
 "metadata": {
  "kernelspec": {
   "display_name": "Python 3 (ipykernel)",
   "language": "python",
   "name": "python3"
  },
  "language_info": {
   "codemirror_mode": {
    "name": "ipython",
    "version": 3
   },
   "file_extension": ".py",
   "mimetype": "text/x-python",
   "name": "python",
   "nbconvert_exporter": "python",
   "pygments_lexer": "ipython3",
   "version": "3.12.2"
  }
 },
 "nbformat": 4,
 "nbformat_minor": 5
}
